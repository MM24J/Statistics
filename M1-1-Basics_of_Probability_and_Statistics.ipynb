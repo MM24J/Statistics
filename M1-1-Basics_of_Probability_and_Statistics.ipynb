{
 "cells": [
  {
   "cell_type": "code",
   "execution_count": 1,
   "id": "dc1cf70f",
   "metadata": {},
   "outputs": [],
   "source": [
    "# If a list of people has 24 women and 21 men, then the probability of choosing a man from the list is 21/45. \n",
    "# What is the probability of not choosing a man?\n",
    "\n",
    "# a) 24/45\n",
    "# number of women/total number of people"
   ]
  },
  {
   "cell_type": "code",
   "execution_count": 2,
   "id": "5552a00e",
   "metadata": {},
   "outputs": [],
   "source": [
    "# The probability that Bernice will travel by plane sometime in the next year is 10%. \n",
    "# The probability of a plane crash at any time is 0.005%.\n",
    "# What is the probability that Bernice will be in a plane crash sometime in the next year?\n",
    "\n",
    "# 0.0005%\n",
    "# 0.1 * 0.00005 = 0.000005 or 0.0005%\n",
    "\n"
   ]
  },
  {
   "cell_type": "code",
   "execution_count": 3,
   "id": "ff7e79a7",
   "metadata": {},
   "outputs": [],
   "source": [
    "# A data scientist wants to study the behavior of users on the company website. \n",
    "# Each time a user clicks on a link on the website, there is a 5% chance that the user will be asked to complete a short survey about their behavior on the website.\n",
    "# The data scientist uses the survey data to conclude that, on average, users spend 15 minutes surfing the company website before moving on to other things. \n",
    "# What is wrong with this conclusion?\n",
    "\n",
    "# Answer: People who surf longer are likely to click more links, increasing the odds of getting a survey."
   ]
  },
  {
   "cell_type": "code",
   "execution_count": 4,
   "id": "b86ce6eb",
   "metadata": {},
   "outputs": [],
   "source": [
    "# A diagnostic test has a 98% probability of giving a positive result when applied to a person suffering from Thripshaw's disease and a 10% probability of giving a (false) positive when applied to a nonsufferer. \n",
    "# It is estimated that 0.5% of the population has the disease.\n",
    "# Suppose that the test is now administered to a person whose disease status is unknown. \n",
    "#Calculate the probability that the test will be positive.\n",
    "\n",
    "# Answer: 0.98 * 0.005 + 0.995 * 0.1 = 0.1044"
   ]
  },
  {
   "cell_type": "code",
   "execution_count": null,
   "id": "7fa4c990",
   "metadata": {},
   "outputs": [],
   "source": []
  }
 ],
 "metadata": {
  "kernelspec": {
   "display_name": "Python 3 (ipykernel)",
   "language": "python",
   "name": "python3"
  },
  "language_info": {
   "codemirror_mode": {
    "name": "ipython",
    "version": 3
   },
   "file_extension": ".py",
   "mimetype": "text/x-python",
   "name": "python",
   "nbconvert_exporter": "python",
   "pygments_lexer": "ipython3",
   "version": "3.10.13"
  }
 },
 "nbformat": 4,
 "nbformat_minor": 5
}
